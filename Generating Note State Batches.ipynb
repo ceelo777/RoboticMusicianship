{
 "cells": [
  {
   "cell_type": "code",
   "execution_count": 1,
   "metadata": {},
   "outputs": [],
   "source": [
    "import midi\n",
    "import numpy as np"
   ]
  },
  {
   "cell_type": "code",
   "execution_count": 67,
   "metadata": {},
   "outputs": [],
   "source": [
    "midifile = \"bach_bourree.mid\"\n",
    "\n",
    "# Read in the file pattern\n",
    "pattern = midi.read_midifile(midifile)\n",
    "\n",
    "# Bounds for notes\n",
    "lowerBound = 0\n",
    "upperBound = 100\n",
    "span = upperBound - lowerBound"
   ]
  },
  {
   "cell_type": "code",
   "execution_count": 70,
   "metadata": {},
   "outputs": [
    {
     "name": "stdout",
     "output_type": "stream",
     "text": [
      "Time Left:  [0, 768]\n",
      "Position:  [0, 0]\n",
      "State:  [[0, 0], [0, 0], [0, 0], [0, 0], [0, 0], [0, 0], [0, 0], [0, 0], [0, 0], [0, 0], [0, 0], [0, 0], [0, 0], [0, 0], [0, 0], [0, 0], [0, 0], [0, 0], [0, 0], [0, 0], [0, 0], [0, 0], [0, 0], [0, 0], [0, 0], [0, 0], [0, 0], [0, 0], [0, 0], [0, 0], [0, 0], [0, 0], [0, 0], [0, 0], [0, 0], [0, 0], [0, 0], [0, 0], [0, 0], [0, 0], [0, 0], [0, 0], [0, 0], [0, 0], [0, 0], [0, 0], [0, 0], [0, 0], [0, 0], [0, 0], [0, 0], [0, 0], [0, 0], [0, 0], [0, 0], [0, 0], [0, 0], [0, 0], [0, 0], [0, 0], [0, 0], [0, 0], [0, 0], [0, 0], [0, 0], [0, 0], [0, 0], [0, 0], [0, 0], [0, 0], [0, 0], [0, 0], [0, 0], [0, 0], [0, 0], [0, 0], [0, 0], [0, 0], [0, 0], [0, 0], [0, 0], [0, 0], [0, 0], [0, 0], [0, 0], [0, 0], [0, 0], [0, 0], [0, 0], [0, 0], [0, 0], [0, 0], [0, 0], [0, 0], [0, 0], [0, 0], [0, 0], [0, 0], [0, 0], [0, 0]]\n",
      "State Matrix:  [[[0, 0], [0, 0], [0, 0], [0, 0], [0, 0], [0, 0], [0, 0], [0, 0], [0, 0], [0, 0], [0, 0], [0, 0], [0, 0], [0, 0], [0, 0], [0, 0], [0, 0], [0, 0], [0, 0], [0, 0], [0, 0], [0, 0], [0, 0], [0, 0], [0, 0], [0, 0], [0, 0], [0, 0], [0, 0], [0, 0], [0, 0], [0, 0], [0, 0], [0, 0], [0, 0], [0, 0], [0, 0], [0, 0], [0, 0], [0, 0], [0, 0], [0, 0], [0, 0], [0, 0], [0, 0], [0, 0], [0, 0], [0, 0], [0, 0], [0, 0], [0, 0], [0, 0], [0, 0], [0, 0], [0, 0], [0, 0], [0, 0], [0, 0], [0, 0], [0, 0], [0, 0], [0, 0], [0, 0], [0, 0], [0, 0], [0, 0], [0, 0], [0, 0], [0, 0], [0, 0], [0, 0], [0, 0], [0, 0], [0, 0], [0, 0], [0, 0], [0, 0], [0, 0], [0, 0], [0, 0], [0, 0], [0, 0], [0, 0], [0, 0], [0, 0], [0, 0], [0, 0], [0, 0], [0, 0], [0, 0], [0, 0], [0, 0], [0, 0], [0, 0], [0, 0], [0, 0], [0, 0], [0, 0], [0, 0], [0, 0]]]\n",
      "HELLO\n"
     ]
    }
   ],
   "source": [
    "# Calculate the amount of time currently used for each track in the pattern\n",
    "timeleft = []\n",
    "\n",
    "# Position for each track in the pattern\n",
    "position = []\n",
    "for track in pattern:\n",
    "    timeleft.append(track[0].tick)\n",
    "    position.append(0)\n",
    "    \n",
    "    statematrix = []\n",
    "    \n",
    "# Current state for each note in the piece\n",
    "state = []\n",
    "for i in range(span):\n",
    "    state.append([0,0])\n",
    "\n",
    "# Add all possible states to the note state matrix\n",
    "statematrix.append(state)\n",
    "print(\"Time Left: \", timeleft)\n",
    "print(\"Position: \", position)\n",
    "print(\"State: \", state)\n",
    "print(\"State Matrix: \", statematrix)\n",
    "\n",
    "time = 0\n",
    "condition = True\n",
    "curr_iter = 0\n",
    "while condition:\n",
    "    # Resolution is Ticks Per Beat (TPM)\n",
    "    if time % (pattern.resolution / 4) == (pattern.resolution / 8):\n",
    "        # Means we crossed a note boundary. Create a new state, defaulting to holding notes.\n",
    "        oldstate = state\n",
    "        state = [[oldstate[x][0],0] for x in range(span)]\n",
    "        statematrix.append(state)\n",
    "    for i in range(len(timeleft)): # For each track\n",
    "        if not condition:\n",
    "            break\n",
    "        while timeleft[i] == 0:\n",
    "            track = pattern[i]\n",
    "            pos = position[i]\n",
    "            evt = track[pos]\n",
    "            # print(evt)\n",
    "            if isinstance(evt, midi.NoteEvent):\n",
    "                if (evt.pitch < lowerBound) or (evt.pitch > upperBound):\n",
    "                    pass\n",
    "                else:                    \n",
    "                    if isinstance(evt, midi.NoteOffEvent) or evt.velocity == 0:\n",
    "                        state[evt.pitch - lowerBound] = [0, 0]\n",
    "                    else:\n",
    "                        state[evt.pitch - lowerBound] = [1, 1]\n",
    "            elif isinstance(evt, midi.TimeSignatureEvent):\n",
    "                if evt.numerator not in (2, 4):\n",
    "                    print(\"HELLO\")\n",
    "                    # We don't want to worry about non-4 time signatures. Bail early!\n",
    "                    out = statematrix\n",
    "                    condition = False\n",
    "                    break\n",
    "            try:\n",
    "                timeleft[i] = track[pos + 1].tick\n",
    "                position[i] += 1\n",
    "            except IndexError:\n",
    "                timeleft[i] = None\n",
    "            \n",
    "        if timeleft[i] is not None:\n",
    "            timeleft[i] -= 1\n",
    "    if all(t is None for t in timeleft):\n",
    "        break\n",
    "    time += 1\n",
    "# print(out)\n",
    "# print(statematrix)"
   ]
  },
  {
   "cell_type": "code",
   "execution_count": null,
   "metadata": {},
   "outputs": [],
   "source": []
  }
 ],
 "metadata": {
  "kernelspec": {
   "display_name": "Python 3",
   "language": "python",
   "name": "python3"
  },
  "language_info": {
   "codemirror_mode": {
    "name": "ipython",
    "version": 3
   },
   "file_extension": ".py",
   "mimetype": "text/x-python",
   "name": "python",
   "nbconvert_exporter": "python",
   "pygments_lexer": "ipython3",
   "version": "3.7.3"
  }
 },
 "nbformat": 4,
 "nbformat_minor": 4
}
